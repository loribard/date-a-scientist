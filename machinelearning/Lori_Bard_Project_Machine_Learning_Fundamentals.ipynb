{
 "cells": [
  {
   "cell_type": "code",
   "execution_count": 1,
   "metadata": {},
   "outputs": [
    {
     "name": "stdout",
     "output_type": "stream",
     "text": [
      "0        working on college/university\n",
      "1                working on space camp\n",
      "2       graduated from masters program\n",
      "3        working on college/university\n",
      "4    graduated from college/university\n",
      "Name: education, dtype: object\n"
     ]
    }
   ],
   "source": [
    "import pandas as pd\n",
    "import numpy as np\n",
    "from numpy import array\n",
    "\n",
    "from matplotlib import pyplot as plt\n",
    "from mpl_toolkits.mplot3d import Axes3D\n",
    "from sklearn.linear_model import LinearRegression\n",
    "from sklearn.model_selection import train_test_split\n",
    "from sklearn.neighbors import KNeighborsClassifier\n",
    "from sklearn.neighbors import KNeighborsRegressor\n",
    "from sklearn.svm import SVC\n",
    "from sklearn.cluster import KMeans\n",
    "import timeit\n",
    "import random\n",
    "\n",
    "df = pd.read_csv(\"capstone_starter/profiles.csv\")\n",
    "print(df.education.head())\n",
    "\n",
    "\n",
    "\n"
   ]
  },
  {
   "cell_type": "code",
   "execution_count": 2,
   "metadata": {},
   "outputs": [
    {
     "name": "stdout",
     "output_type": "stream",
     "text": [
      "Index([u'age', u'body_type', u'diet', u'drinks', u'drugs', u'education',\n",
      "       u'essay0', u'essay1', u'essay2', u'essay3', u'essay4', u'essay5',\n",
      "       u'essay6', u'essay7', u'essay8', u'essay9', u'ethnicity', u'height',\n",
      "       u'income', u'job', u'last_online', u'location', u'offspring',\n",
      "       u'orientation', u'pets', u'religion', u'sex', u'sign', u'smokes',\n",
      "       u'speaks', u'status'],\n",
      "      dtype='object')\n"
     ]
    }
   ],
   "source": [
    "print(df.columns)"
   ]
  },
  {
   "cell_type": "code",
   "execution_count": 3,
   "metadata": {},
   "outputs": [
    {
     "name": "stdout",
     "output_type": "stream",
     "text": [
      "59946\n"
     ]
    }
   ],
   "source": [
    "print(len(df))\n"
   ]
  },
  {
   "cell_type": "code",
   "execution_count": 4,
   "metadata": {},
   "outputs": [
    {
     "name": "stdout",
     "output_type": "stream",
     "text": [
      "26    3724\n",
      "27    3685\n",
      "28    3583\n",
      "25    3531\n",
      "29    3295\n",
      "Name: age, dtype: int64\n"
     ]
    }
   ],
   "source": [
    "print(df.age.value_counts()[0:5]\n",
    "     )"
   ]
  },
  {
   "cell_type": "code",
   "execution_count": 5,
   "metadata": {},
   "outputs": [
    {
     "name": "stdout",
     "output_type": "stream",
     "text": [
      "other                             7589\n",
      "student                           4882\n",
      "science / tech / engineering      4848\n",
      "computer / hardware / software    4709\n",
      "artistic / musical / writer       4439\n",
      "Name: job, dtype: int64\n"
     ]
    }
   ],
   "source": [
    "print(df.job.value_counts()[0:5])"
   ]
  },
  {
   "cell_type": "code",
   "execution_count": 6,
   "metadata": {},
   "outputs": [
    {
     "name": "stdout",
     "output_type": "stream",
     "text": [
      "('Min: ', 18)\n",
      "('DF.AGE', 26    3724\n",
      "27    3685\n",
      "28    3583\n",
      "25    3531\n",
      "29    3295\n",
      "Name: age, dtype: int64)\n"
     ]
    },
    {
     "data": {
      "image/png": "[encoded data removed]",
      "text/plain": [
       "<Figure size 432x288 with 1 Axes>"
      ]
     },
     "metadata": {
      "needs_background": "light"
     },
     "output_type": "display_data"
    }
   ],
   "source": [
    "print(\"Min: \",min(df.age))\n",
    "print(\"DF.AGE\", df.age.value_counts()[0:5])\n",
    "plt.hist(df.age, bins=25)\n",
    "plt.xlabel(\"Age\")\n",
    "plt.ylabel(\"Frequency\")\n",
    "plt.xlim(16,80)\n",
    "plt.show()\n"
   ]
  },
  {
   "cell_type": "code",
   "execution_count": 7,
   "metadata": {},
   "outputs": [
    {
     "name": "stdout",
     "output_type": "stream",
     "text": [
      "-1          48442\n",
      " 20000       2952\n",
      " 100000      1621\n",
      " 80000       1111\n",
      " 30000       1048\n",
      " 40000       1005\n",
      " 50000        975\n",
      " 60000        736\n",
      " 70000        707\n",
      " 150000       631\n",
      " 1000000      521\n",
      " 250000       149\n",
      " 500000        48\n",
      "Name: income, dtype: int64\n",
      "0       -1\n",
      "1    80000\n",
      "2       -1\n",
      "3    20000\n",
      "4       -1\n",
      "Name: income, dtype: int64\n",
      "0.0    48442\n",
      "1.0     2952\n",
      "5.0     2922\n",
      "3.0     2418\n",
      "2.0     2053\n",
      "4.0     1111\n",
      "Name: income_code, dtype: int64\n"
     ]
    }
   ],
   "source": [
    "print(df.income.value_counts())\n",
    "print(df.income.head())\n",
    "income_mapping = {-1:0,20000:1,100000:5,80000:4,30000:2,40000:2,50000:3,60000:3,70000:3,150000:5,1000000:5,250000:5,5000000:5}\n",
    "df[\"income_code\"] = df.income.map(income_mapping)\n",
    "#df.loc[df['income_code'] != 0]\n",
    "print(df.income_code.value_counts())\n",
    "#Too many people said -1 for income to make any real data out of this"
   ]
  },
  {
   "cell_type": "code",
   "execution_count": 8,
   "metadata": {},
   "outputs": [
    {
     "name": "stdout",
     "output_type": "stream",
     "text": [
      "socially       41780\n",
      "rarely          5957\n",
      "often           5164\n",
      "not at all      3267\n",
      "very often       471\n",
      "desperately      322\n",
      "Name: drinks, dtype: int64\n",
      "('DRINKS CODE:VALUE COUNTS ', 2.0    41780\n",
      "1.0     5957\n",
      "3.0     5164\n",
      "0.0     3267\n",
      "4.0      471\n",
      "5.0      322\n",
      "Name: drinks_code, dtype: int64)\n",
      "('DF DRINKS_CODE index 0 to 7: ', 0    2.0\n",
      "1    3.0\n",
      "2    2.0\n",
      "3    2.0\n",
      "4    2.0\n",
      "5    2.0\n",
      "6    2.0\n",
      "Name: drinks_code, dtype: float64)\n",
      "('DRINK CODE INDEX 0', 3267)\n"
     ]
    }
   ],
   "source": [
    "print(df.drinks.value_counts())\n",
    "drink_mapping = {\"not at all\":0, \"rarely\":1, \"socially\":2, \"often\":3, \"very often\":4, \"desperately\":5}\n",
    "df[\"drinks_code\"] = df.drinks.map(drink_mapping)\n",
    "print(\"DRINKS CODE:VALUE COUNTS \", df.drinks_code.value_counts())\n",
    "print(\"DF DRINKS_CODE index 0 to 7: \", df.drinks_code[0:7])\n",
    "print(\"DRINK CODE INDEX 0\", df.drinks_code.value_counts()[0])\n",
    "#print(df.drinks.head(),df.drinks_code.head())"
   ]
  },
  {
   "cell_type": "code",
   "execution_count": 9,
   "metadata": {},
   "outputs": [
    {
     "name": "stdout",
     "output_type": "stream",
     "text": [
      "3267\n"
     ]
    },
    {
     "data": {
      "image/png": "[encoded data removed]",
      "text/plain": [
       "<Figure size 432x288 with 1 Axes>"
      ]
     },
     "metadata": {
      "needs_background": "light"
     },
     "output_type": "display_data"
    }
   ],
   "source": [
    "print(df.drinks_code.value_counts()[0])\n",
    "y_drinks = []\n",
    "x_drinks = []\n",
    "for i in range(6):\n",
    "    x_drinks.append(i)\n",
    "    y_drinks.append(df.drinks_code.value_counts()[i])\n",
    "plt.plot(x_drinks, y_drinks)    \n",
    "plt.xlabel(\"DRINKS CODE\")\n",
    "plt.ylabel(\"FREQUENCY\")  \n",
    "plt.show()"
   ]
  },
  {
   "cell_type": "code",
   "execution_count": 10,
   "metadata": {
    "scrolled": true
   },
   "outputs": [
    {
     "name": "stdout",
     "output_type": "stream",
     "text": [
      "average           14652\n",
      "fit               12711\n",
      "athletic          11819\n",
      "thin               4711\n",
      "curvy              3924\n",
      "a little extra     2629\n",
      "skinny             1777\n",
      "full figured       1009\n",
      "overweight          444\n",
      "jacked              421\n",
      "used up             355\n",
      "rather not say      198\n",
      "Name: body_type, dtype: int64\n",
      "3.0    24494\n",
      "4.0    12711\n",
      "5.0    12240\n",
      "2.0     2629\n",
      "1.0     2576\n",
      "Name: body_mapping_code, dtype: int64\n",
      "('a little extra', 2.0)\n",
      "59946\n"
     ]
    },
    {
     "data": {
      "image/png": "[encoded data removed]",
      "text/plain": [
       "<Figure size 432x288 with 1 Axes>"
      ]
     },
     "metadata": {
      "needs_background": "light"
     },
     "output_type": "display_data"
    }
   ],
   "source": [
    "print(df.body_type.value_counts())\n",
    "body_mapping = {\"average\":3, \"fit\":4, \"athletic\":5, \"thin\":3, \"curvy\":3, \"a little extra\":2, \"skinny\":1,\"full figured\":3, \"overweight\":1, \"jacked\":5, \"used up\":1,\"rather not say\":3,}\n",
    "df[\"body_mapping_code\"] = df.body_type.map(body_mapping)\n",
    "print(df.body_mapping_code.value_counts())\n",
    "print(df.body_type[0],df.body_mapping_code[0])\n",
    "print(len(df.body_mapping_code))\n",
    "y_body = []\n",
    "x_body = []\n",
    "for i in range(len(df.body_mapping_code.value_counts())):\n",
    "    x_body.append(i)\n",
    "    try:\n",
    "        y_body.append(df.body_mapping_code.value_counts()[i])\n",
    "        \n",
    "    except KeyError:\n",
    "        y_body.append(0)\n",
    "\n",
    "plt.plot(x_body, y_body)    \n",
    "plt.xlabel(\"BODY CODE\")\n",
    "plt.ylabel(\"FREQUENCY\")  \n",
    "plt.show()"
   ]
  },
  {
   "cell_type": "code",
   "execution_count": 11,
   "metadata": {},
   "outputs": [
    {
     "name": "stdout",
     "output_type": "stream",
     "text": [
      "59946\n",
      "20 0\n",
      "59943\n",
      "95.0\n",
      "1.0\n"
     ]
    },
    {
     "data": {
      "image/png": "[encoded data removed]",
      "text/plain": [
       "<Figure size 432x288 with 1 Axes>"
      ]
     },
     "metadata": {
      "needs_background": "light"
     },
     "output_type": "display_data"
    }
   ],
   "source": [
    "print(len(df.height))\n",
    "\n",
    "count = 0\n",
    "key_error = 0\n",
    "for i in range(len(df)):\n",
    "    try:\n",
    "        if df.height[i]<= 40:\n",
    "            count += 1\n",
    "    except KeyError:\n",
    "        key_error += 1\n",
    "print count,key_error\n",
    "#these aren't significant numbers that have erratic values\n",
    "        \n",
    "    \n",
    "df = df[df.height.notnull()]\n",
    "\n",
    "print(len(df.height))\n",
    "#print(height_mapping)\n",
    "print(max(df.height)) \n",
    "print(min(df.height)) \n",
    "#print(df.height.value_counts())\n",
    "plt.hist(df.height, bins=20)\n",
    "plt.xlabel(\"HEIGHT\")\n",
    "plt.ylabel(\"FREQUENCY\")\n",
    "plt.xlim(55,85)\n",
    "plt.show()\n"
   ]
  },
  {
   "cell_type": "code",
   "execution_count": 12,
   "metadata": {},
   "outputs": [
    {
     "name": "stdout",
     "output_type": "stream",
     "text": [
      "0    75.0\n",
      "1    70.0\n",
      "2    68.0\n",
      "3    71.0\n",
      "4    66.0\n",
      "Name: height, dtype: float64\n",
      "59943\n",
      "59943\n",
      "('DF HEIGHT HEAD', 0    75.0\n",
      "1    70.0\n",
      "2    68.0\n",
      "3    71.0\n",
      "4    66.0\n",
      "Name: height, dtype: float64, 'DF HEIGHT MAPPING CODE HEAD', 0    5\n",
      "1    4\n",
      "2    2\n",
      "3    4\n",
      "4    2\n",
      "Name: height_code, dtype: int64)\n"
     ]
    }
   ],
   "source": [
    "tall = [73,74,75,76,77,78,79,80,81,82,83,84,85,86,87,88,89,90,91,92,93,94,95]\n",
    "pretty_tall = [69,70,71,72]\n",
    "average = [64,65,66,67,68]\n",
    "short = list(range(64))\n",
    "print(df.height.head())\n",
    "print(len(df.height))\n",
    "height_range = len(df.height)\n",
    "print(height_range)\n",
    "height_mapping = []\n",
    "for i in range(height_range):\n",
    "    try:\n",
    "        height = int(df.height[i])\n",
    "        if height in tall:\n",
    "            height_mapping.append(5)\n",
    "            \n",
    "        elif height in pretty_tall: \n",
    "            height_mapping.append(4)\n",
    "        elif height in average: \n",
    "            height_mapping.append(2) \n",
    "        else: \n",
    "            height_mapping.append(1)\n",
    "    except KeyError:\n",
    "        height_mapping.append(0)\n",
    "        \n",
    "df[\"height_code\"] = height_mapping\n",
    "print(\"DF HEIGHT HEAD\",df.height.head(),\"DF HEIGHT MAPPING CODE HEAD\", df.height_code.head())\n",
    "# print(\"HEIGHT MAPPING CODE HEAD\",df.height_mapping_code.head())\n",
    "# print(\"EHIGHT MAPPING VALUE COUNTS\",df.height_mapping_code.value_counts())"
   ]
  },
  {
   "cell_type": "code",
   "execution_count": 13,
   "metadata": {},
   "outputs": [
    {
     "name": "stdout",
     "output_type": "stream",
     "text": [
      "0    about me:<br />\\n<br />\\ni would love to think...\n",
      "1    i am a chef: this is what that means.<br />\\n1...\n",
      "2    i'm not ashamed of much, but writing public te...\n",
      "3    i work in a library and go to school. . .readi...\n",
      "4    hey how's it going? currently vague on the pro...\n",
      "dtype: object\n"
     ]
    }
   ],
   "source": [
    "essay_cols = [\"essay0\",\"essay1\",\"essay2\",\"essay3\",\"essay4\", \"essay5\",\"essay6\",\"essay7\",\"essay8\",\"essay9\"]\n",
    "all_essays = df[essay_cols].replace(np.nan,'',regex=True)\n",
    "all_essays = all_essays[essay_cols].apply(lambda x:''.join(x),axis=1)\n",
    "print(all_essays[0:5])\n",
    "\n",
    "\n",
    "\n",
    "\n",
    "        "
   ]
  },
  {
   "cell_type": "code",
   "execution_count": 14,
   "metadata": {},
   "outputs": [],
   "source": [
    "# word_dict = {}\n",
    "# for i in range(50):\n",
    "#     split_essay = all_essays[i].split()\n",
    "    \n",
    "#     for word in split_essay:\n",
    "#         if word.lower() in word_dict.keys():\n",
    "#             word_dict[word] += 1\n",
    "#         else:\n",
    "#             word_dict[word] = 1\n",
    "# values_words = word_dict.values()\n",
    "# print(max(values_words))  \n"
   ]
  },
  {
   "cell_type": "code",
   "execution_count": 15,
   "metadata": {},
   "outputs": [],
   "source": [
    "#     for word in split_essay:\n",
    "#         if word in word_dict.keys():\n",
    "#             word_dict[word] += 1\n",
    "#         else:\n",
    "#             word_dict[word] = 1\n",
    "# values_words = word_dict.values()\n",
    "# print(max(values_words))"
   ]
  },
  {
   "cell_type": "code",
   "execution_count": 16,
   "metadata": {},
   "outputs": [],
   "source": [
    "# most_frequent = []\n",
    "# values_words.sort()\n",
    "# for key,value in word_dict.iteritems():\n",
    "#     if value in values_words[-25:]:\n",
    "#         most_frequent.append(key)\n",
    "# print(most_frequent)\n",
    "    "
   ]
  },
  {
   "cell_type": "code",
   "execution_count": 17,
   "metadata": {},
   "outputs": [],
   "source": [
    "count = 0\n",
    "self_words = []\n",
    "chosen_words = [\"i'm\", 'i','me','my','have']\n",
    "data_range = len(df)\n",
    "j = 0\n",
    "while j < data_range:\n",
    "    try:\n",
    "        all_essays_j = all_essays[j]\n",
    "        all_essays_j.split()\n",
    "        essay_len = len(all_essays_j)\n",
    "        if essay_len > 0:\n",
    "            for word in all_essays_j:\n",
    "                if word.lower() in chosen_words:\n",
    "                    count += 1\n",
    "            percent_self = (count * 100)/essay_len\n",
    "        else:\n",
    "            percent_self = 0\n",
    "        \n",
    "        self_words.append(percent_self)\n",
    "        count = 0\n",
    "        j += 1\n",
    "    except KeyError:\n",
    "        self_words.append(0)\n",
    "        count = 0\n",
    "        j += 1\n",
    "count = 0\n",
    "for j in range(len(self_words)):\n",
    "    if self_words[j] > 13:\n",
    "        count += 1\n",
    "        self_words[j] = 13\n",
    "#Let's put all the self_words in a grouping of 1-5 like all the other categories.       \n",
    "for k in range(len(self_words)):\n",
    "    if self_words[k] in [0,1,2]:\n",
    "        self_words[k] = 1\n",
    "    elif self_words[k] in [3,4]:\n",
    "        self_words[k] = 2\n",
    "    elif self_words[k] in [5, 6,]:\n",
    "        self_words[k] = 3\n",
    "    elif self_words[k] in [7, 8, 9]:\n",
    "        self_words[k] = 4\n",
    "    elif self_words[k] in [10, 11, 12,13]:\n",
    "        self_words[k] = 5\n",
    "\n",
    "\n",
    "        \n",
    "\n",
    "    "
   ]
  },
  {
   "cell_type": "code",
   "execution_count": 18,
   "metadata": {},
   "outputs": [
    {
     "name": "stdout",
     "output_type": "stream",
     "text": [
      "0    3\n",
      "1    3\n",
      "2    3\n",
      "3    3\n",
      "4    2\n",
      "Name: selfish_words, dtype: int64\n",
      "1\n",
      "5\n",
      "3    45817\n",
      "4     9197\n",
      "1     2377\n",
      "2     2299\n",
      "5      253\n",
      "Name: selfish_words, dtype: int64\n"
     ]
    }
   ],
   "source": [
    "df[\"selfish_words\"] = self_words\n",
    "print(df.selfish_words.head())\n",
    "print(min(df.selfish_words))\n",
    "print(max(df.selfish_words))\n",
    "print(df.selfish_words.value_counts())"
   ]
  },
  {
   "cell_type": "code",
   "execution_count": 19,
   "metadata": {},
   "outputs": [],
   "source": [
    "# Premise: If someone is tall, has a good body image, doesn't drink too much,\n",
    "# uses lots of selfish words, do they earn more money?"
   ]
  },
  {
   "cell_type": "code",
   "execution_count": 20,
   "metadata": {},
   "outputs": [
    {
     "name": "stdout",
     "output_type": "stream",
     "text": [
      "(<type 'numpy.ndarray'>, array([3, 3, 3, 1, 3, 3, 3, 4, 3, 3, 4, 3, 4, 3, 3, 3, 3, 3, 3, 4]), [4, 1, 2, 2, 3, 3, 5, 1, 5, 3, 1, 5, 3, 2, 4, 5, 5, 0, 1, 5])\n",
      "('SHAPE', (11504, 1))\n"
     ]
    },
    {
     "data": {
      "image/png": "[encoded data removed]",
      "text/plain": [
       "<Figure size 432x288 with 1 Axes>"
      ]
     },
     "metadata": {
      "needs_background": "light"
     },
     "output_type": "display_data"
    },
    {
     "name": "stdout",
     "output_type": "stream",
     "text": [
      "(<type 'list'>, <type 'numpy.ndarray'>)\n"
     ]
    }
   ],
   "source": [
    "#LINEAR REGRESSION\n",
    "selfish_words_vals = []\n",
    "income_vals = []\n",
    "income_vals_index = []\n",
    "df_for_plot = (df.loc[df['income_code'] != 0])\n",
    "#print(df_for_plot[0:5])\n",
    "#print(df_for_plot.index[2])\n",
    "len_df_for_plot = len(df_for_plot)\n",
    "for j in range(len_df_for_plot):\n",
    "    income_vals_index.append(df_for_plot.index[j])\n",
    "\n",
    "#print(income_vals_index)\n",
    "    \n",
    "# We only want to look at the values where there is an income value for the response   \n",
    "\n",
    "for item in income_vals_index:\n",
    "    try:\n",
    "        selfish_words_vals.append(df.selfish_words[item])\n",
    "        \n",
    "        try:\n",
    "            number = int(df.income_code[item])\n",
    "            income_vals.append(number)\n",
    "\n",
    "        except:\n",
    "            income_vals.append(0)\n",
    "    except KeyError:\n",
    "        selfish_words_vals.append(0)\n",
    "        income_vals.append(0)\n",
    "plt.scatter(selfish_words_vals,income_vals,alpha=0.4)\n",
    "plt.plot(selfish_words_vals,income_vals,\"o\")\n",
    "plt.title(\"Words and Income\")\n",
    "plt.xlabel(\"Selfish Words\")\n",
    "plt.ylabel(\"Income\")\n",
    "\n",
    "selfish_words_vals_np = np.array(selfish_words_vals)\n",
    "print(type(selfish_words_vals_np),selfish_words_vals_np[0:20],income_vals[0:20])\n",
    "selfish_words_vals_np = selfish_words_vals_np.reshape(-1,1)\n",
    "print(\"SHAPE\",selfish_words_vals_np.shape)\n",
    "line_fitter = LinearRegression()\n",
    "line_fitter.fit(selfish_words_vals_np,income_vals)\n",
    "income_predict = line_fitter.predict(selfish_words_vals_np)\n",
    "plt.plot(selfish_words_vals_np,income_predict,\"x\")\n",
    "plt.show()\n",
    "print(type(income_vals),type(selfish_words_vals_np))"
   ]
  },
  {
   "cell_type": "code",
   "execution_count": 21,
   "metadata": {},
   "outputs": [
    {
     "name": "stdout",
     "output_type": "stream",
     "text": [
      "[1, 3, 11, 13, 14, 43, 48, 66, 72, 73]\n",
      "11504\n",
      "[3, 3, 3, 1, 3]\n",
      "(11504, 11504, 11504, 11504)\n",
      "(11504,) (11504,) (11504,) (11504,)\n"
     ]
    }
   ],
   "source": [
    "#MULTIPLE LINEAR REGRESSION\n",
    "\n",
    "height_code_val = []\n",
    "body_type_val = []\n",
    "print income_vals_index[0:10]\n",
    "print(len(income_vals_index))\n",
    "print(selfish_words_vals[0:5])\n",
    "for item in income_vals_index:\n",
    "    try:\n",
    "        if df.height_code[item] and df.body_mapping_code[item]:\n",
    "            number3 = int(df.body_mapping_code[item]) \n",
    "            body_type_val.append(number3)\n",
    "            number2 = int(df.height_code[item])\n",
    "            height_code_val.append(number2)\n",
    "    except:\n",
    "        height_code_val.append(0)\n",
    "        body_type_val.append(0)\n",
    "print(len(body_type_val),len(height_code_val), len(selfish_words_vals), len(income_vals))        \n",
    "body_type_val = array(body_type_val)\n",
    "height_code_val = array(height_code_val)\n",
    "selfish_words_vals = array(selfish_words_vals)\n",
    "income_vals = array(income_vals)\n",
    "print body_type_val.shape, height_code_val.shape,selfish_words_vals.shape, income_vals.shape\n",
    "\n"
   ]
  },
  {
   "cell_type": "code",
   "execution_count": 22,
   "metadata": {},
   "outputs": [
    {
     "name": "stdout",
     "output_type": "stream",
     "text": [
      "Index([u'body', u'height', u'income', u'self_words'], dtype='object')\n"
     ]
    }
   ],
   "source": [
    "#Let's make a new data frame with the data that includes income\n",
    "df_with_income = pd.DataFrame({'self_words':selfish_words_vals, 'height':height_code_val,'body':body_type_val, 'income':income_vals})\n",
    "print(df_with_income.columns)\n",
    "X = df_with_income[['self_words', 'height', 'body']]\n",
    "y = df_with_income[['income']]\n",
    "x_train, x_test, y_train, y_test = train_test_split(X,y,train_size=0.8, test_size=0.2,random_state=6)\n"
   ]
  },
  {
   "cell_type": "code",
   "execution_count": 23,
   "metadata": {},
   "outputs": [
    {
     "name": "stdout",
     "output_type": "stream",
     "text": [
      "((9203, 3), (2301, 3), (9203, 1), (2301, 1))\n",
      "((11504, 1), (11504, 3))\n"
     ]
    }
   ],
   "source": [
    "#Multiple Linear Regression\n",
    "print(x_train.shape,x_test.shape,y_train.shape,y_test.shape)\n",
    "print(y.shape,X.shape)\n",
    "mlr = LinearRegression()\n",
    "mlr.fit(x_train,y_train)\n",
    "y_predict = mlr.predict(x_test)\n",
    "\n"
   ]
  },
  {
   "cell_type": "code",
   "execution_count": 24,
   "metadata": {},
   "outputs": [
    {
     "data": {
      "image/png": "[encoded data removed]",
      "text/plain": [
       "<Figure size 432x288 with 1 Axes>"
      ]
     },
     "metadata": {
      "needs_background": "light"
     },
     "output_type": "display_data"
    }
   ],
   "source": [
    "plt.scatter(y_test,y_predict,alpha=0.4)\n",
    "plt.xlabel(\"BodyImage,Height,SelfImage\")\n",
    "plt.ylabel(\"Income\")\n",
    "plt.title(\"Do tall,self 'centered' people with good body images make more money?\")\n",
    "plt.show()"
   ]
  },
  {
   "cell_type": "code",
   "execution_count": 25,
   "metadata": {},
   "outputs": [
    {
     "name": "stdout",
     "output_type": "stream",
     "text": [
      "Train score: \n",
      "0.032753918103644475\n",
      "Test score: \n",
      "0.0420663179581493\n"
     ]
    }
   ],
   "source": [
    "print(\"Train score: \")\n",
    "print(mlr.score(x_train,y_train))\n",
    "print(\"Test score: \")\n",
    "print(mlr.score(x_test,y_test))"
   ]
  },
  {
   "cell_type": "code",
   "execution_count": 33,
   "metadata": {},
   "outputs": [
    {
     "name": "stdout",
     "output_type": "stream",
     "text": [
      "(11504, 1)\n",
      "[[3, 4, 3], [3, 4, 3], [3, 4, 3], [1, 2, 1], [3, 1, 3], [3, 4, 4], [3, 2, 3], [4, 2, 5], [3, 5, 5], [3, 1, 3]]\n",
      "[4 1 2 2 3 3 5 1 5 3]\n",
      "[5 1 1 3 1 1]\n",
      "0.2798157162726008\n"
     ]
    }
   ],
   "source": [
    "#K-Nearest Neighbor Classifier\n",
    "classifier = KNeighborsClassifier(n_neighbors = 5)\n",
    "print(y.shape)\n",
    "income_dataset = []\n",
    "\n",
    "for i in range(len(df_with_income)):\n",
    "    income_dataset.append([df_with_income.self_words[i], df_with_income.height[i], df_with_income.body[i]])\n",
    "print(income_dataset[0:10]) \n",
    "print(income_vals[0:10])\n",
    "classifier.fit(income_dataset, income_vals)\n",
    "unknowns = [[5,5,5],[1,1,1],[3,3,3],[2,5,1], [5,5,2],[2,1,1]]\n",
    "guesses = classifier.predict(unknowns)\n",
    "print(guesses)\n",
    "print(classifier.score(income_dataset, income_vals))\n"
   ]
  },
  {
   "cell_type": "code",
   "execution_count": 36,
   "metadata": {},
   "outputs": [
    {
     "name": "stdout",
     "output_type": "stream",
     "text": [
      "[5.  2.  1.8 3.  1.8 1. ]\n",
      "-0.18329779767506005\n"
     ]
    }
   ],
   "source": [
    "#K-Nearest Neighbor Regressor\n",
    "regressor = KNeighborsRegressor(n_neighbors = 5, weights = \"distance\")\n",
    "training_points = income_dataset\n",
    "training_values = income_vals\n",
    "regressor.fit(training_points, training_values)\n",
    "unknown_points = [[5,5,5],[1,1,1],[3,3,3],[2,5,1],[5,5,2],[2,1,1]]\n",
    "guesses = regressor.predict(unknown_points)\n",
    "print(guesses)\n",
    "print(regressor.score(training_points, training_values))\n"
   ]
  },
  {
   "cell_type": "code",
   "execution_count": 35,
   "metadata": {},
   "outputs": [
    {
     "name": "stdout",
     "output_type": "stream",
     "text": [
      "[5 1 1 1 1 1]\n",
      "0.3204972183588317\n"
     ]
    }
   ],
   "source": [
    "#Support Vector Machines -Linear Kernel\n",
    "classifier = SVC(kernel = 'linear',C=0.0001)\n",
    "classifier.fit(training_points, training_values)\n",
    "print(classifier.predict([[5,5,5],[1,1,1],[3,3,3],[2,5,1],[5,5,2],[2,1,1]]))\n",
    "#Get the same result from C between .0001 to 1\n",
    "print(classifier.score(training_points, training_values))"
   ]
  },
  {
   "cell_type": "code",
   "execution_count": 29,
   "metadata": {},
   "outputs": [],
   "source": [
    "#Support Vector Machines-RBF (Radial Bias Function Kernel)\n",
    "# training_data, validation_data, training_labels, validation_labels = train_test_split(training_points, training_values,train_size=0.8, test_size=0.2,random_state=100)\n",
    "# classifier = SVC(kernel = 'rbf', gamma = 0.1)\n",
    "# classifier.fit(training_data, training_labels)\n",
    "# print(classifier.score(validation_data,validation_labels))\n"
   ]
  },
  {
   "cell_type": "code",
   "execution_count": 30,
   "metadata": {},
   "outputs": [
    {
     "name": "stdout",
     "output_type": "stream",
     "text": [
      "('Worst RANDOM ', 0.19533681869506836)\n",
      "('Average Run Time RANDOM ', 0.13164746761322021)\n",
      "('Worst K-Means++ ', 0.24747490882873535)\n",
      "('Average Run Time K-Means++ ', 0.14405011653900146)\n"
     ]
    }
   ],
   "source": [
    "#K=Means++ using Scikit-Learn time it takes\n",
    "worst = 0\n",
    "total = 0\n",
    "for i in range(100):\n",
    "    start = timeit.default_timer()\n",
    "    model = KMeans(init=\"random\", n_clusters = 5)\n",
    "    results = model.fit_predict(training_points,training_values)\n",
    "    stop = timeit.default_timer()\n",
    "    run = stop - start\n",
    "    total += run\n",
    "    if run > worst:\n",
    "        worst = run\n",
    "print(\"Worst RANDOM \", worst) \n",
    "print(\"Average Run Time RANDOM \", total/100)\n",
    "worst = 0\n",
    "total = 0\n",
    "for i in range(100):\n",
    "    start = timeit.default_timer()\n",
    "    model = KMeans(init=\"k-means++\", n_clusters = 5)\n",
    "    results = model.fit_predict(training_points,training_values)\n",
    "    stop = timeit.default_timer()\n",
    "    run = stop - start\n",
    "    total += run\n",
    "    if run > worst:\n",
    "        worst = run\n",
    "print(\"Worst K-Means++ \", worst) \n",
    "print(\"Average Run Time K-Means++ \", total/100)\n"
   ]
  },
  {
   "cell_type": "code",
   "execution_count": null,
   "metadata": {},
   "outputs": [],
   "source": []
  }
 ],
 "metadata": {
  "kernelspec": {
   "display_name": "Python 2",
   "language": "python",
   "name": "python2"
  },
  "language_info": {
   "codemirror_mode": {
    "name": "ipython",
    "version": 2
   },
   "file_extension": ".py",
   "mimetype": "text/x-python",
   "name": "python",
   "nbconvert_exporter": "python",
   "pygments_lexer": "ipython2",
   "version": "2.7.15"
  }
 },
 "nbformat": 4,
 "nbformat_minor": 2
}
